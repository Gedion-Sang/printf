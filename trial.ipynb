{
 "cells": [
  {
   "cell_type": "code",
   "execution_count": 2,
   "metadata": {},
   "outputs": [
    {
     "name": "stdout",
     "output_type": "stream",
     "text": [
      "3 is prime!\n"
     ]
    }
   ],
   "source": [
    "\n",
    "user_number = int(input('Please provide a number from 2 to 1000: '))\n",
    "is_prime = True\n",
    "if user_number >= 2 and user_number <= 1000:\n",
    "  for i in range(2, user_number):\n",
    "    if user_number%i == 0:\n",
    "      is_prime = False\n",
    "      break\n",
    "  if is_prime == True:\n",
    "    print(user_number, 'is prime!')\n",
    "  else:\n",
    "    print(user_number, 'is not prime!')\n",
    "else:\n",
    "  print('Incorrect number!')\n"
   ]
  }
 ],
 "metadata": {
  "kernelspec": {
   "display_name": "Python 3",
   "language": "python",
   "name": "python3"
  },
  "language_info": {
   "codemirror_mode": {
    "name": "ipython",
    "version": 3
   },
   "file_extension": ".py",
   "mimetype": "text/x-python",
   "name": "python",
   "nbconvert_exporter": "python",
   "pygments_lexer": "ipython3",
   "version": "3.13.2"
  }
 },
 "nbformat": 4,
 "nbformat_minor": 2
}
